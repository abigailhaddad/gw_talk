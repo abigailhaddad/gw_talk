{
 "cells": [
  {
   "cell_type": "markdown",
   "metadata": {},
   "source": [
    "# Let's Take Some Code And Make It Better"
   ]
  },
  {
   "cell_type": "code",
   "execution_count": 2,
   "metadata": {},
   "outputs": [
    {
     "name": "stdout",
     "output_type": "stream",
     "text": [
      "Collecting seaborn\n",
      "  Downloading seaborn-0.12.2-py3-none-any.whl (293 kB)\n",
      "     ---------------------------------------- 0.0/293.3 kB ? eta -:--:--\n",
      "     ------------------ ------------------- 143.4/293.3 kB 2.8 MB/s eta 0:00:01\n",
      "     -------------------------------------- 293.3/293.3 kB 3.6 MB/s eta 0:00:00\n",
      "Requirement already satisfied: numpy!=1.24.0,>=1.17 in c:\\users\\abiga\\appdata\\local\\programs\\python\\python311\\lib\\site-packages (from seaborn) (1.24.2)\n",
      "Requirement already satisfied: pandas>=0.25 in c:\\users\\abiga\\appdata\\local\\programs\\python\\python311\\lib\\site-packages (from seaborn) (1.5.3)\n",
      "Requirement already satisfied: matplotlib!=3.6.1,>=3.1 in c:\\users\\abiga\\appdata\\roaming\\python\\python311\\site-packages (from seaborn) (3.7.0)\n",
      "Requirement already satisfied: contourpy>=1.0.1 in c:\\users\\abiga\\appdata\\roaming\\python\\python311\\site-packages (from matplotlib!=3.6.1,>=3.1->seaborn) (1.0.7)\n",
      "Requirement already satisfied: cycler>=0.10 in c:\\users\\abiga\\appdata\\roaming\\python\\python311\\site-packages (from matplotlib!=3.6.1,>=3.1->seaborn) (0.11.0)\n",
      "Requirement already satisfied: fonttools>=4.22.0 in c:\\users\\abiga\\appdata\\local\\programs\\python\\python311\\lib\\site-packages (from matplotlib!=3.6.1,>=3.1->seaborn) (4.39.0)\n",
      "Requirement already satisfied: kiwisolver>=1.0.1 in c:\\users\\abiga\\appdata\\local\\programs\\python\\python311\\lib\\site-packages (from matplotlib!=3.6.1,>=3.1->seaborn) (1.4.4)\n",
      "Requirement already satisfied: packaging>=20.0 in c:\\users\\abiga\\appdata\\local\\programs\\python\\python311\\lib\\site-packages (from matplotlib!=3.6.1,>=3.1->seaborn) (23.1)\n",
      "Requirement already satisfied: pillow>=6.2.0 in c:\\users\\abiga\\appdata\\local\\programs\\python\\python311\\lib\\site-packages (from matplotlib!=3.6.1,>=3.1->seaborn) (9.4.0)\n",
      "Requirement already satisfied: pyparsing>=2.3.1 in c:\\users\\abiga\\appdata\\local\\programs\\python\\python311\\lib\\site-packages (from matplotlib!=3.6.1,>=3.1->seaborn) (3.0.9)\n",
      "Requirement already satisfied: python-dateutil>=2.7 in c:\\users\\abiga\\appdata\\local\\programs\\python\\python311\\lib\\site-packages (from matplotlib!=3.6.1,>=3.1->seaborn) (2.8.2)\n",
      "Requirement already satisfied: pytz>=2020.1 in c:\\users\\abiga\\appdata\\local\\programs\\python\\python311\\lib\\site-packages (from pandas>=0.25->seaborn) (2022.7.1)\n",
      "Requirement already satisfied: six>=1.5 in c:\\users\\abiga\\appdata\\local\\programs\\python\\python311\\lib\\site-packages (from python-dateutil>=2.7->matplotlib!=3.6.1,>=3.1->seaborn) (1.16.0)\n",
      "Installing collected packages: seaborn\n",
      "Successfully installed seaborn-0.12.2\n",
      "Note: you may need to restart the kernel to use updated packages.\n"
     ]
    },
    {
     "name": "stderr",
     "output_type": "stream",
     "text": [
      "\n",
      "[notice] A new release of pip is available: 23.0.1 -> 23.2.1\n",
      "[notice] To update, run: python.exe -m pip install --upgrade pip\n"
     ]
    },
    {
     "data": {
      "image/png": "[encoded data removed]",
      "text/plain": [
       "<Figure size 640x480 with 1 Axes>"
      ]
     },
     "metadata": {},
     "output_type": "display_data"
    }
   ],
   "source": [
    "%pip install seaborn\n",
    "import seaborn as sns\n",
    "import pandas as pd\n",
    "import matplotlib.pyplot as plt\n",
    "\n",
    "iris = sns.load_dataset(\"iris\")\n",
    "\n",
    "\n",
    "temp = iris.copy()\n",
    "\n",
    "\n",
    "for i in range(len(temp)):\n",
    "    if temp.loc[i, 'species'] == 'setosa':\n",
    "        temp.at[i, 'common_name'] = 'Blue Flag'\n",
    "    elif temp.loc[i, 'species'] == 'versicolor':\n",
    "        temp.at[i, 'common_name'] = 'Harlequin Blueflag'\n",
    "    elif temp.loc[i, 'species'] == 'virginica':\n",
    "        temp.at[i, 'common_name'] = 'Virginia Iris'\n",
    "\n",
    "above_avg_petal = temp[temp['petal_length'] > 3.8]\n",
    "below_avg_petal = temp[temp['petal_length'] <= 3.8]\n",
    "\n",
    "above_avg_sepal = temp[temp['sepal_length'] > 5.9]\n",
    "below_avg_sepal = temp[temp['sepal_length'] <= 5.9]\n",
    "\n",
    "x = {}\n",
    "x['Above Average Petal Length'] = above_avg_petal['petal_width'].mean()\n",
    "x['Below Average Petal Length'] = below_avg_petal['petal_width'].mean()\n",
    "x['Above Average Sepal Length'] = above_avg_sepal['petal_width'].mean()\n",
    "x['Below Average Sepal Length'] = below_avg_sepal['petal_width'].mean()\n",
    "\n",
    "y = {}\n",
    "y['Above Average Petal Length'] = above_avg_petal['petal_width'].std()\n",
    "y['Below Average Petal Length'] = below_avg_petal['petal_width'].std()\n",
    "y['Above Average Sepal Length'] = above_avg_sepal['petal_width'].std()\n",
    "y['Below Average Sepal Length'] = below_avg_sepal['petal_width'].std()\n",
    "\n",
    "\n",
    "plt.bar(x.keys(), x.values(), yerr=y.values())\n",
    "plt.show()\n"
   ]
  }
 ],
 "metadata": {
  "kernelspec": {
   "display_name": "Python 3",
   "language": "python",
   "name": "python3"
  },
  "language_info": {
   "codemirror_mode": {
    "name": "ipython",
    "version": 3
   },
   "file_extension": ".py",
   "mimetype": "text/x-python",
   "name": "python",
   "nbconvert_exporter": "python",
   "pygments_lexer": "ipython3",
   "version": "3.11.2"
  },
  "orig_nbformat": 4
 },
 "nbformat": 4,
 "nbformat_minor": 2
}
