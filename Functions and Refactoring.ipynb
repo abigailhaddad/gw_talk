{
 "cells": [
  {
   "cell_type": "markdown",
   "metadata": {},
   "source": [
    "# Functions and Refactoring With LLMs"
   ]
  },
  {
   "cell_type": "markdown",
   "metadata": {},
   "source": [
    "### Big Picture\n",
    "\n",
    "* Coding with functions, as opposed to procedurally, is really important, especially when you are coding on the job and with other people\n",
    "* LLMs can help turn poorly-written, poorly-structured code into better code -- if you ask"
   ]
  },
  {
   "cell_type": "markdown",
   "metadata": {},
   "source": [
    "### Benefits of Using Functions\n",
    "\n",
    "* Easier to understand: Functions allow you to break your code into smaller, more manageable pieces. This makes it easier for you (and others) to understand what your code is doing.\n",
    "\n",
    "* Avoiding side effects: A side effect is when a function changes something you didn't mean for it to change. This can make code hard to reason about and introduce bugs. By using functions that only depend on their inputs and only modify the variables that you're returning explicitly as outputs, you can avoid side effects and make your code more predictable.\n",
    "\n",
    "* Modularity: Functions let you organize your code into modular pieces. This means that you can easily rearrange or reuse parts of your code without affecting the rest of the program.\n",
    "\n",
    "* Reusability: Well-written functions can be easily reused in other parts of your code or even in other projects, saving time and ensuring consistent results. It also means that if you modify how a function works - for instance, replacing a loop with list comprehension in Python - you only need to change it in one place, not every place you're calling it."
   ]
  },
  {
   "cell_type": "markdown",
   "metadata": {},
   "source": [
    "## Structuring a Function\n",
    "\n",
    "In both Python and R, a function is defined by a name, a set of input parameters, and a return statement to provide the output. The general structure is as follows:\n",
    "\n",
    "Python:\n",
    "```python\n",
    "def function_name(input1, input2, ...):\n",
    "    # Function logic here\n",
    "    return output\n",
    "```\n",
    "\n",
    "R: \n",
    "```r\n",
    "function_name <- function(input1, input2, ...) {\n",
    "    # Function logic here\n",
    "    return(output)\n",
    "}\n",
    "```\n",
    "To write a clear and readable function, follow these guidelines:\n",
    "\n",
    "1. Keep functions small and focused on a single task.\n",
    "2. Use descriptive names for functions and variables.\n",
    "3. Make use of comments to explain the purpose of the function and any complex logic."
   ]
  },
  {
   "cell_type": "markdown",
   "metadata": {},
   "source": [
    "## Structuring a Program with a Main Function\n",
    "\n",
    "Wrapping smaller functions within a main function makes it easier to manage, run, and import into other programs, as well as shows you what the overall inputs and outputs are for your code. Here's an example of how to do this in Python and R:\n",
    "\n",
    "Python:\n",
    "```python\n",
    "def read_data(file_path):\n",
    "    # Code to read data from a file\n",
    "    pass\n",
    "\n",
    "def process_data(data):\n",
    "    # Code to process the data\n",
    "    pass\n",
    "\n",
    "def save_data(data, output_path):\n",
    "    # Code to save processed data to a file\n",
    "    pass\n",
    "\n",
    "def main(input_file, output_file):\n",
    "    data = read_data(input_file)\n",
    "    processed_data = process_data(data)\n",
    "    save_data(processed_data, output_file)\n",
    "\n",
    "if __name__ == '__main__':\n",
    "    main('input.txt', 'output.txt')\n",
    "```\n",
    "\n",
    "R:\n",
    "```R\n",
    "read_data <- function(file_path) {\n",
    "    # Code to read data from a file\n",
    "    return(data)\n",
    "}\n",
    "\n",
    "process_data <- function(data) {\n",
    "    # Code to process the data\n",
    "    return(processed_data)\n",
    "}\n",
    "\n",
    "save_data <- function(data, output_path) {\n",
    "    # Code to save processed data to a file\n",
    "}\n",
    "\n",
    "main <- function(input_file, output_file) {\n",
    "    data <- read_data(input_file)\n",
    "    processed_data <- process_data(data)\n",
    "    save_data(processed_data, output_file)\n",
    "}\n",
    "\n",
    "main('input.txt', 'output.txt')\n",
    "```"
   ]
  },
  {
   "cell_type": "markdown",
   "metadata": {},
   "source": [
    "### How Can LLMs Help With This?\n",
    "\n",
    "* If you ask it to write code, it won't automate write you code that's structured well\n",
    "* But if you ask it specifically to restructure its (or your) code, and you tell it specifically what you want, it'll generally improve\n",
    "* GPT-4 writes better-structured code than a lot of data scientists\n"
   ]
  },
  {
   "cell_type": "markdown",
   "metadata": {},
   "source": []
  }
 ],
 "metadata": {
  "language_info": {
   "name": "python"
  },
  "orig_nbformat": 4
 },
 "nbformat": 4,
 "nbformat_minor": 2
}
